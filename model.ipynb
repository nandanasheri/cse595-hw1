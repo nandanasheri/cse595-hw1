{
 "cells": [
  {
   "cell_type": "markdown",
   "id": "91fd2241",
   "metadata": {},
   "source": [
    "## CSE595 Homework 1 : Logistic Regression Implementation"
   ]
  },
  {
   "cell_type": "code",
   "execution_count": 85,
   "id": "43f85f92",
   "metadata": {},
   "outputs": [],
   "source": [
    "import pandas\n",
    "import re\n",
    "from collections import Counter\n",
    "import numpy as np\n",
    "from scipy import sparse"
   ]
  },
  {
   "cell_type": "code",
   "execution_count": 26,
   "id": "9f240b64",
   "metadata": {},
   "outputs": [],
   "source": [
    "# Function to load stop words from NLTK Github Repo to be removed \n",
    "def load_stopwords():\n",
    "    f = open(\"stopwords.txt\")\n",
    "    words = f.readlines()\n",
    "    stopwords = set()\n",
    "    for i in words:\n",
    "        i = i.strip()\n",
    "        stopwords.add(i)\n",
    "    return stopwords"
   ]
  },
  {
   "cell_type": "markdown",
   "id": "8156ff00",
   "metadata": {},
   "source": [
    "### Part 1 : Representing Text Data"
   ]
  },
  {
   "cell_type": "code",
   "execution_count": 56,
   "id": "7af0dd6a",
   "metadata": {},
   "outputs": [],
   "source": [
    "# tokenizes purely by using whitespace\n",
    "def tokenize (sentence : str):\n",
    "    tokens = sentence.split()\n",
    "    return tokens"
   ]
  },
  {
   "cell_type": "code",
   "execution_count": 61,
   "id": "04b2a289",
   "metadata": {},
   "outputs": [],
   "source": [
    "# tokenizing by ignoring capitalization, removing stop words as well as all punctuations\n",
    "def better_tokenize(text : str):\n",
    "    # store unique tokens in tokens\n",
    "    tokens = []\n",
    "    # convert entire text into lowercase\n",
    "    lowercase = text.lower()\n",
    "    # find all possible words and all possible punctuations as their own tokens \n",
    "    words = re.findall(r\"\\w+|[,.!?#\\r\\n$%;:()\\\"']\", lowercase)\n",
    "    # load in stop words\n",
    "    stopwords = load_stopwords()\n",
    "    \n",
    "    for word in words:\n",
    "        if word not in stopwords:\n",
    "            tokens.append(word)\n",
    "    return tokens"
   ]
  },
  {
   "cell_type": "code",
   "execution_count": 91,
   "id": "d42482d7",
   "metadata": {},
   "outputs": [],
   "source": [
    "# build the vocabulary with a minimum word frequency of 250 along with a column mapping\n",
    "def build_vocab(token_docs: list):\n",
    "    vocab, all_tokens = [], []\n",
    "    vocab_indices = {}\n",
    "    for doc in token_docs:\n",
    "        all_tokens.extend(doc)\n",
    "\n",
    "    # returns frequences of tokens across all documents\n",
    "    frequencies = Counter(all_tokens)\n",
    "    \n",
    "    i = 0\n",
    "    for freq in frequencies:\n",
    "    #   if above certain threshold, add to vocab\n",
    "        if frequencies[freq] >= 250:\n",
    "            vocab.append(freq)\n",
    "            vocab_indices[freq] = i\n",
    "            i += 1\n",
    "     \n",
    "    return set(vocab), vocab_indices    \n",
    "\n",
    "# create term document matrix\n",
    "def create_sparse_matrix(documents : list):\n",
    "    tokenized_docs = []\n",
    "    for doc in documents:\n",
    "        tokens = better_tokenize(doc)\n",
    "        tokenized_docs.append(tokens)\n",
    "    vocab, indices = build_vocab(tokenized_docs)\n",
    "\n",
    "    dense_matrix = []\n",
    "    for doc in tokenized_docs:\n",
    "        row = [0] * len(vocab)\n",
    "        for token in doc:\n",
    "            if token in vocab:\n",
    "                row[indices[token]] += 1\n",
    "        dense_matrix.append(row)\n",
    "    np_arr = np.array(dense_matrix)\n",
    "    sparse_td_matrix = sparse.csr_matrix(np_arr)\n",
    "    \n",
    "    return sparse_td_matrix, indices"
   ]
  },
  {
   "cell_type": "markdown",
   "id": "078fa42b",
   "metadata": {},
   "source": [
    "#### Testing Tokenization"
   ]
  },
  {
   "cell_type": "code",
   "execution_count": 58,
   "id": "7596106b",
   "metadata": {},
   "outputs": [
    {
     "data": {
      "text/plain": [
       "['\"',\n",
       " 'conjuring',\n",
       " '\"',\n",
       " 'one',\n",
       " 'thrilling',\n",
       " 'horror',\n",
       " 'film',\n",
       " 'come',\n",
       " 'recent',\n",
       " 'times',\n",
       " '.',\n",
       " '\"',\n",
       " 'sinister',\n",
       " '\"',\n",
       " 'one',\n",
       " 'scariest',\n",
       " 'films',\n",
       " 'watched',\n",
       " '.',\n",
       " 'since',\n",
       " \"'\",\n",
       " 'based',\n",
       " '\"',\n",
       " 'true',\n",
       " 'events',\n",
       " '\"',\n",
       " ',',\n",
       " 'makes',\n",
       " 'even',\n",
       " 'interesting',\n",
       " '.',\n",
       " \"'\",\n",
       " 'quite',\n",
       " 'give',\n",
       " 'full',\n",
       " '10',\n",
       " 'star',\n",
       " 'rating',\n",
       " 'quite',\n",
       " 'jump',\n",
       " 'scares',\n",
       " ',',\n",
       " 'least',\n",
       " 'good',\n",
       " 'portion',\n",
       " 'jump',\n",
       " 'scares',\n",
       " 'add',\n",
       " 'atmosphere',\n",
       " 'movie',\n",
       " '.',\n",
       " 'first',\n",
       " 'time',\n",
       " 'watcher',\n",
       " 'movie',\n",
       " ',',\n",
       " 'certainly',\n",
       " 'disturb',\n",
       " '.',\n",
       " 'doesn',\n",
       " \"'\",\n",
       " 'stick',\n",
       " 'like',\n",
       " '\"',\n",
       " 'sinister',\n",
       " '\"',\n",
       " 'long',\n",
       " ',',\n",
       " 'conjuring',\n",
       " 'fun',\n",
       " 'watch',\n",
       " 'always',\n",
       " 'love',\n",
       " 'coming',\n",
       " 'back',\n",
       " 'rewatch',\n",
       " 'every',\n",
       " '.']"
      ]
     },
     "execution_count": 58,
     "metadata": {},
     "output_type": "execute_result"
    }
   ],
   "source": [
    "df = pandas.read_csv(\"train.csv\")\n",
    "better_tokenize(df['generation'][0])"
   ]
  },
  {
   "cell_type": "code",
   "execution_count": 92,
   "id": "640e810a",
   "metadata": {},
   "outputs": [
    {
     "name": "stdout",
     "output_type": "stream",
     "text": [
      "<Compressed Sparse Row sparse matrix of dtype 'float64'\n",
      "\twith 0 stored elements and shape (3, 0)>\n",
      "{}\n"
     ]
    }
   ],
   "source": [
    "documents_test = [\"I like the cat!\", \"the cat eats.\", \"i saw this cat and it was adorable i like it so much\"]\n",
    "matrix, indices = create_sparse_matrix(documents_test)\n",
    "\n",
    "print(matrix)\n",
    "print(indices)"
   ]
  }
 ],
 "metadata": {
  "kernelspec": {
   "display_name": "cs421",
   "language": "python",
   "name": "python3"
  },
  "language_info": {
   "codemirror_mode": {
    "name": "ipython",
    "version": 3
   },
   "file_extension": ".py",
   "mimetype": "text/x-python",
   "name": "python",
   "nbconvert_exporter": "python",
   "pygments_lexer": "ipython3",
   "version": "3.10.16"
  }
 },
 "nbformat": 4,
 "nbformat_minor": 5
}
