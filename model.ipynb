{
  "cells": [
    {
      "cell_type": "markdown",
      "id": "91fd2241",
      "metadata": {
        "id": "91fd2241"
      },
      "source": [
        "## CSE595 Homework 1 : Logistic Regression Implementation"
      ]
    },
    {
      "cell_type": "code",
      "execution_count": 223,
      "id": "43f85f92",
      "metadata": {
        "id": "43f85f92"
      },
      "outputs": [],
      "source": [
        "import pandas\n",
        "import re\n",
        "from collections import Counter\n",
        "import numpy as np\n",
        "from scipy import sparse\n",
        "import torch\n",
        "import torch.nn as nn\n",
        "import matplotlib.pyplot as plt\n",
        "import seaborn as sns\n",
        "import random"
      ]
    },
    {
      "cell_type": "code",
      "execution_count": 4,
      "id": "326ced81",
      "metadata": {
        "colab": {
          "base_uri": "https://localhost:8080/"
        },
        "collapsed": true,
        "id": "326ced81",
        "outputId": "31607ce9-19e7-496a-c03d-37d2b61035bd"
      },
      "outputs": [
        {
          "name": "stdout",
          "output_type": "stream",
          "text": [
            "Defaulting to user installation because normal site-packages is not writeable\n",
            "Requirement already satisfied: torch in c:\\users\\nandana\\appdata\\roaming\\python\\python313\\site-packages (2.7.0)\n",
            "Requirement already satisfied: filelock in c:\\users\\nandana\\appdata\\roaming\\python\\python313\\site-packages (from torch) (3.18.0)\n",
            "Requirement already satisfied: typing-extensions>=4.10.0 in c:\\users\\nandana\\appdata\\roaming\\python\\python313\\site-packages (from torch) (4.14.0)\n",
            "Requirement already satisfied: sympy>=1.13.3 in c:\\users\\nandana\\appdata\\roaming\\python\\python313\\site-packages (from torch) (1.14.0)\n",
            "Requirement already satisfied: networkx in c:\\users\\nandana\\appdata\\roaming\\python\\python313\\site-packages (from torch) (3.5)\n",
            "Requirement already satisfied: jinja2 in c:\\users\\nandana\\appdata\\roaming\\python\\python313\\site-packages (from torch) (3.1.6)\n",
            "Requirement already satisfied: fsspec in c:\\users\\nandana\\appdata\\roaming\\python\\python313\\site-packages (from torch) (2025.5.1)\n",
            "Requirement already satisfied: setuptools in c:\\users\\nandana\\appdata\\roaming\\python\\python313\\site-packages (from torch) (80.9.0)\n",
            "Requirement already satisfied: mpmath<1.4,>=1.1.0 in c:\\users\\nandana\\appdata\\roaming\\python\\python313\\site-packages (from sympy>=1.13.3->torch) (1.3.0)\n",
            "Requirement already satisfied: MarkupSafe>=2.0 in c:\\users\\nandana\\appdata\\roaming\\python\\python313\\site-packages (from jinja2->torch) (3.0.2)\n",
            "Note: you may need to restart the kernel to use updated packages.\n"
          ]
        },
        {
          "name": "stderr",
          "output_type": "stream",
          "text": [
            "\n",
            "[notice] A new release of pip is available: 25.0.1 -> 25.2\n",
            "[notice] To update, run: python.exe -m pip install --upgrade pip\n"
          ]
        },
        {
          "name": "stdout",
          "output_type": "stream",
          "text": [
            "Defaulting to user installation because normal site-packages is not writeable\n",
            "Requirement already satisfied: seaborn in c:\\users\\nandana\\appdata\\roaming\\python\\python313\\site-packages (0.13.2)\n",
            "Requirement already satisfied: numpy!=1.24.0,>=1.20 in c:\\users\\nandana\\appdata\\roaming\\python\\python313\\site-packages (from seaborn) (2.2.6)\n",
            "Requirement already satisfied: pandas>=1.2 in c:\\users\\nandana\\appdata\\roaming\\python\\python313\\site-packages (from seaborn) (2.2.3)\n",
            "Requirement already satisfied: matplotlib!=3.6.1,>=3.4 in c:\\users\\nandana\\appdata\\roaming\\python\\python313\\site-packages (from seaborn) (3.10.3)\n",
            "Requirement already satisfied: contourpy>=1.0.1 in c:\\users\\nandana\\appdata\\roaming\\python\\python313\\site-packages (from matplotlib!=3.6.1,>=3.4->seaborn) (1.3.2)\n",
            "Requirement already satisfied: cycler>=0.10 in c:\\users\\nandana\\appdata\\roaming\\python\\python313\\site-packages (from matplotlib!=3.6.1,>=3.4->seaborn) (0.12.1)\n",
            "Requirement already satisfied: fonttools>=4.22.0 in c:\\users\\nandana\\appdata\\roaming\\python\\python313\\site-packages (from matplotlib!=3.6.1,>=3.4->seaborn) (4.58.1)\n",
            "Requirement already satisfied: kiwisolver>=1.3.1 in c:\\users\\nandana\\appdata\\roaming\\python\\python313\\site-packages (from matplotlib!=3.6.1,>=3.4->seaborn) (1.4.8)\n",
            "Requirement already satisfied: packaging>=20.0 in c:\\users\\nandana\\appdata\\roaming\\python\\python313\\site-packages (from matplotlib!=3.6.1,>=3.4->seaborn) (25.0)\n",
            "Requirement already satisfied: pillow>=8 in c:\\users\\nandana\\appdata\\roaming\\python\\python313\\site-packages (from matplotlib!=3.6.1,>=3.4->seaborn) (11.2.1)\n",
            "Requirement already satisfied: pyparsing>=2.3.1 in c:\\users\\nandana\\appdata\\roaming\\python\\python313\\site-packages (from matplotlib!=3.6.1,>=3.4->seaborn) (3.2.3)\n",
            "Requirement already satisfied: python-dateutil>=2.7 in c:\\users\\nandana\\appdata\\roaming\\python\\python313\\site-packages (from matplotlib!=3.6.1,>=3.4->seaborn) (2.9.0.post0)\n",
            "Requirement already satisfied: pytz>=2020.1 in c:\\users\\nandana\\appdata\\roaming\\python\\python313\\site-packages (from pandas>=1.2->seaborn) (2025.2)\n",
            "Requirement already satisfied: tzdata>=2022.7 in c:\\users\\nandana\\appdata\\roaming\\python\\python313\\site-packages (from pandas>=1.2->seaborn) (2025.2)\n",
            "Requirement already satisfied: six>=1.5 in c:\\users\\nandana\\appdata\\roaming\\python\\python313\\site-packages (from python-dateutil>=2.7->matplotlib!=3.6.1,>=3.4->seaborn) (1.17.0)\n",
            "Note: you may need to restart the kernel to use updated packages.\n"
          ]
        },
        {
          "name": "stderr",
          "output_type": "stream",
          "text": [
            "\n",
            "[notice] A new release of pip is available: 25.0.1 -> 25.2\n",
            "[notice] To update, run: python.exe -m pip install --upgrade pip\n"
          ]
        }
      ],
      "source": [
        "%pip install torch\n",
        "%pip install seaborn"
      ]
    },
    {
      "cell_type": "code",
      "execution_count": 224,
      "id": "9f240b64",
      "metadata": {
        "id": "9f240b64"
      },
      "outputs": [],
      "source": [
        "# Function to load stop words from NLTK Github Repo to be removed\n",
        "def load_stopwords():\n",
        "    f = open(\"stopwords.txt\")\n",
        "    words = f.readlines()\n",
        "    stopwords = set()\n",
        "    for i in words:\n",
        "        i = i.strip()\n",
        "        stopwords.add(i)\n",
        "    return stopwords\n",
        "\n",
        "stopwords = load_stopwords()"
      ]
    },
    {
      "cell_type": "markdown",
      "id": "8156ff00",
      "metadata": {
        "id": "8156ff00"
      },
      "source": [
        "### Part 1 : Representing Text Data"
      ]
    },
    {
      "cell_type": "code",
      "execution_count": 225,
      "id": "7af0dd6a",
      "metadata": {
        "id": "7af0dd6a"
      },
      "outputs": [],
      "source": [
        "# tokenizes purely by using whitespace\n",
        "def tokenize (sentence : str):\n",
        "    tokens = sentence.split()\n",
        "    return tokens"
      ]
    },
    {
      "cell_type": "code",
      "execution_count": 226,
      "id": "04b2a289",
      "metadata": {
        "id": "04b2a289"
      },
      "outputs": [],
      "source": [
        "# tokenizing by ignoring capitalization, removing stop words as well as all punctuations\n",
        "def better_tokenize(text : str):\n",
        "    # store unique tokens in tokens\n",
        "    tokens = []\n",
        "    # convert entire text into lowercase\n",
        "    lowercase = text.lower()\n",
        "    # find all possible words and all possible punctuations as their own tokens\n",
        "    words = re.findall(r\"\\w+|[,.!?#\\r\\n$%;:()\\\"']\", lowercase)\n",
        "\n",
        "    for word in words:\n",
        "        if word not in stopwords:\n",
        "            tokens.append(word)\n",
        "    return tokens"
      ]
    },
    {
      "cell_type": "code",
      "execution_count": 300,
      "id": "d42482d7",
      "metadata": {
        "id": "d42482d7"
      },
      "outputs": [],
      "source": [
        "# build the vocabulary with a minimum word frequency of 250 along with a column mapping\n",
        "def build_vocab(token_docs: list):\n",
        "    vocab, all_tokens = [], []\n",
        "    vocab_indices = {}\n",
        "    for doc in token_docs:\n",
        "        all_tokens.extend(doc)\n",
        "\n",
        "    # returns frequences of tokens across all documents\n",
        "    frequencies = Counter(all_tokens)\n",
        "\n",
        "    i = 0\n",
        "    for freq in frequencies:\n",
        "    #   if above certain threshold, add to vocab\n",
        "        if frequencies[freq] >= 250:\n",
        "            vocab.append(freq)\n",
        "            vocab_indices[freq] = i\n",
        "            i += 1\n",
        "\n",
        "    return set(vocab), vocab_indices\n",
        "\n",
        "# create term document matrix\n",
        "def create_sparse_matrix(documents : list):\n",
        "    tokenized_docs = []\n",
        "    for doc in documents:\n",
        "        tokens = better_tokenize(doc)\n",
        "        tokenized_docs.append(tokens)\n",
        "    vocab, indices = build_vocab(tokenized_docs)\n",
        "\n",
        "    dense_matrix = []\n",
        "    for doc in tokenized_docs:\n",
        "        row = [0] * len(vocab)\n",
        "        for token in doc:\n",
        "            if token in vocab:\n",
        "                row[indices[token]] += 1\n",
        "        dense_matrix.append(row)\n",
        "\n",
        "    np_arr = np.array(dense_matrix)\n",
        "    sparse_td_matrix = sparse.csr_matrix(np_arr)\n",
        "\n",
        "    return sparse_td_matrix, indices\n",
        "\n",
        "# create a vector from a singular document of text\n",
        "def create_document_vector(text, indices, numpy=True):\n",
        "    tokens = better_tokenize(text)\n",
        "    # extra feature for bias in the case of numpy though we don't need it for pytorch\n",
        "    if numpy:\n",
        "        row = [0] * (len(indices) + 1)\n",
        "    else:\n",
        "        row = [0] * (len(indices))\n",
        "    for token in tokens:\n",
        "        if token in indices:\n",
        "            row[indices[token]] += 1\n",
        "    # one extra feature to account for bias\n",
        "    row[-1] = 1\n",
        "    return np.array(row)\n",
        "\n",
        "# convert boolean dataframe of class labels into numpy array of integers\n",
        "def create_class_vector(class_labels):\n",
        "    return np.array(class_labels, dtype=int)\n"
      ]
    },
    {
      "cell_type": "markdown",
      "id": "078fa42b",
      "metadata": {
        "id": "078fa42b"
      },
      "source": [
        "#### Testing Tokenization"
      ]
    },
    {
      "cell_type": "code",
      "execution_count": 6,
      "id": "7596106b",
      "metadata": {
        "colab": {
          "base_uri": "https://localhost:8080/"
        },
        "id": "7596106b",
        "outputId": "10302473-1393-4305-c131-bb67ce23c2ee"
      },
      "outputs": [
        {
          "data": {
            "text/plain": [
              "['\"',\n",
              " 'conjuring',\n",
              " '\"',\n",
              " 'one',\n",
              " 'thrilling',\n",
              " 'horror',\n",
              " 'film',\n",
              " 'come',\n",
              " 'recent',\n",
              " 'times',\n",
              " '.',\n",
              " '\"',\n",
              " 'sinister',\n",
              " '\"',\n",
              " 'one',\n",
              " 'scariest',\n",
              " 'films',\n",
              " 'watched',\n",
              " '.',\n",
              " 'since',\n",
              " \"'\",\n",
              " 'based',\n",
              " '\"',\n",
              " 'true',\n",
              " 'events',\n",
              " '\"',\n",
              " ',',\n",
              " 'makes',\n",
              " 'even',\n",
              " 'interesting',\n",
              " '.',\n",
              " \"'\",\n",
              " 'quite',\n",
              " 'give',\n",
              " 'full',\n",
              " '10',\n",
              " 'star',\n",
              " 'rating',\n",
              " 'quite',\n",
              " 'jump',\n",
              " 'scares',\n",
              " ',',\n",
              " 'least',\n",
              " 'good',\n",
              " 'portion',\n",
              " 'jump',\n",
              " 'scares',\n",
              " 'add',\n",
              " 'atmosphere',\n",
              " 'movie',\n",
              " '.',\n",
              " 'first',\n",
              " 'time',\n",
              " 'watcher',\n",
              " 'movie',\n",
              " ',',\n",
              " 'certainly',\n",
              " 'disturb',\n",
              " '.',\n",
              " 'doesn',\n",
              " \"'\",\n",
              " 'stick',\n",
              " 'like',\n",
              " '\"',\n",
              " 'sinister',\n",
              " '\"',\n",
              " 'long',\n",
              " ',',\n",
              " 'conjuring',\n",
              " 'fun',\n",
              " 'watch',\n",
              " 'always',\n",
              " 'love',\n",
              " 'coming',\n",
              " 'back',\n",
              " 'rewatch',\n",
              " 'every',\n",
              " '.']"
            ]
          },
          "execution_count": 6,
          "metadata": {},
          "output_type": "execute_result"
        }
      ],
      "source": [
        "df = pandas.read_csv(\"train.csv\")\n",
        "better_tokenize(df['generation'][0])"
      ]
    },
    {
      "cell_type": "code",
      "execution_count": 7,
      "id": "640e810a",
      "metadata": {
        "colab": {
          "base_uri": "https://localhost:8080/"
        },
        "id": "640e810a",
        "outputId": "b578d4cd-d68f-483b-fa60-55d978757950"
      },
      "outputs": [
        {
          "name": "stdout",
          "output_type": "stream",
          "text": [
            "[0 0 0 ... 1 0 0]\n"
          ]
        }
      ],
      "source": [
        "documents_test = [\"I like the cat!\", \"the cat eats.\", \"i saw this cat and it was adorable i like it so much\"]\n",
        "# matrix, indices = create_sparse_matrix(df[\"generation\"])\n",
        "\n",
        "print(create_class_vector(df['label'].values))\n",
        "\n",
        "# print(matrix)\n",
        "# print(indices)"
      ]
    },
    {
      "cell_type": "markdown",
      "id": "699094c0",
      "metadata": {
        "id": "699094c0"
      },
      "source": [
        "### Part 2 : Logistic Regression w numpy"
      ]
    },
    {
      "cell_type": "code",
      "execution_count": 154,
      "id": "e4ccc3b8",
      "metadata": {
        "id": "e4ccc3b8"
      },
      "outputs": [],
      "source": [
        "# Defining sigmoid function that takes in a np array/vector\n",
        "def sigmoid(x):\n",
        "    result = 1/(1+np.exp(-x))\n",
        "    return result\n",
        "\n",
        "# weights is our beta coefficients, x is the feature vector of a document and y is the ground truth of a document\n",
        "def log_likelihood(y, predicted_y):\n",
        "    a = y * predicted_y\n",
        "    b = np.log(1 + np.exp(predicted_y))\n",
        "    return a - b\n",
        "\n",
        "# compute the gradient for a specific x vector, beta coefficients and ground truth y\n",
        "def compute_gradient(x, y, predicted_y):\n",
        "    gradient = (sigmoid(predicted_y) - y) * x\n",
        "    return gradient"
      ]
    },
    {
      "cell_type": "code",
      "execution_count": 176,
      "id": "d741e91d",
      "metadata": {
        "id": "d741e91d"
      },
      "outputs": [],
      "source": [
        "# logistic regression with X matrix each row is a feature vector, Y vector, rate of learning and number of steps\n",
        "def logistic_regression(X, Y, learning_rate, num_step, epochs = 1, plot=20):\n",
        "    print(X.shape)\n",
        "    # Adding a column of ones as bias vector\n",
        "    bias = np.array([1] * X.shape[0]).reshape(-1, 1)\n",
        "    sparse_bias = sparse.csr_matrix(bias)\n",
        "    # horizontally stacking training matrix with bias vector\n",
        "    X = sparse.hstack([X, sparse_bias], format=\"csr\")\n",
        "\n",
        "    beta = [0] * X.shape[1]\n",
        "    # beta values - vector of coefficients initialized to zero\n",
        "    beta = np.array(beta)\n",
        "\n",
        "    log_likelihoods = []\n",
        "\n",
        "    for j in range(epochs):\n",
        "        for i in range(num_step):\n",
        "            \n",
        "            row_ind = random.randint(0, X.shape[0]-1)\n",
        "            # row_ind = i\n",
        "\n",
        "            # calculate predicted y using the current coefficient weights\n",
        "            predicted_y = sparse.csr_matrix.dot(X.getrow(row_ind), beta)\n",
        "\n",
        "            # compute gradient and update beta vector stochastic gradient descent\n",
        "            beta = np.subtract(beta, learning_rate * compute_gradient(X.getrow(row_ind), Y[row_ind], predicted_y))\n",
        "            if i % plot == 0:\n",
        "                log_likelihoods.append((i+j,log_likelihood(Y[row_ind], predicted_y)[0]))\n",
        "\n",
        "\n",
        "    return log_likelihoods, beta\n",
        "\n",
        "def predict(text, beta, indices):\n",
        "    test_features = create_document_vector(text, indices)\n",
        "    predicted_y = np.matmul(test_features, beta)\n",
        "    return sigmoid(predicted_y) >= 0.5\n"
      ]
    },
    {
      "cell_type": "markdown",
      "id": "e2d11a1e",
      "metadata": {
        "id": "e2d11a1e"
      },
      "source": [
        "#### Training the Model"
      ]
    },
    {
      "cell_type": "code",
      "execution_count": 156,
      "id": "2c1f572d",
      "metadata": {
        "colab": {
          "base_uri": "https://localhost:8080/",
          "height": 211
        },
        "id": "2c1f572d",
        "outputId": "6894729e-0301-4662-c175-adb9a38a0ac8"
      },
      "outputs": [],
      "source": [
        "# setting up term document matrix and class labels as a vector\n",
        "df = pandas.read_csv(\"train.csv\")\n",
        "\n",
        "# create a sparse matrix for all training documents\n",
        "matrix, indices = create_sparse_matrix(df[\"generation\"])\n",
        "Y_class = create_class_vector(df['label'].values)"
      ]
    },
    {
      "cell_type": "code",
      "execution_count": 157,
      "id": "b896e549",
      "metadata": {
        "colab": {
          "base_uri": "https://localhost:8080/"
        },
        "id": "b896e549",
        "outputId": "5bbc5153-891f-4d0b-9a25-fd53f047634a"
      },
      "outputs": [
        {
          "name": "stdout",
          "output_type": "stream",
          "text": [
            "(55002, 5186)\n"
          ]
        }
      ],
      "source": [
        "# running the training loop for 1000 steps\n",
        "learning_rate = 5e-5\n",
        "num_steps = 1000\n",
        "log_likelihoods, beta_values = logistic_regression(matrix, Y_class, learning_rate, num_steps)"
      ]
    },
    {
      "cell_type": "markdown",
      "id": "e424c485",
      "metadata": {
        "id": "e424c485"
      },
      "source": [
        "#### Log likelihood plot for 1000 steps"
      ]
    },
    {
      "cell_type": "code",
      "execution_count": 158,
      "id": "b4cb6ce6",
      "metadata": {
        "colab": {
          "base_uri": "https://localhost:8080/",
          "height": 449
        },
        "id": "b4cb6ce6",
        "outputId": "9d257fd5-1fb1-42c8-9f34-92a59c2330c1"
      },
      "outputs": [
        {
          "data": {
            "image/png": "[encoded data removed]",
            "text/plain": [
              "<Figure size 640x480 with 1 Axes>"
            ]
          },
          "metadata": {},
          "output_type": "display_data"
        }
      ],
      "source": [
        "sns.lineplot(data=pandas.DataFrame(log_likelihoods, columns=['steps', 'log_likelihood']), x=\"steps\", y=\"log_likelihood\", marker=\"o\")\n",
        "plt.show()"
      ]
    },
    {
      "cell_type": "code",
      "execution_count": 203,
      "id": "f50fab96",
      "metadata": {
        "colab": {
          "base_uri": "https://localhost:8080/",
          "height": 465
        },
        "id": "f50fab96",
        "outputId": "685f391a-f8ae-4377-ab5c-b5d4005046bb"
      },
      "outputs": [
        {
          "name": "stdout",
          "output_type": "stream",
          "text": [
            "(55002, 5186)\n"
          ]
        },
        {
          "name": "stderr",
          "output_type": "stream",
          "text": [
            "C:\\Users\\nandana\\AppData\\Local\\Temp\\ipykernel_29424\\3196652572.py:3: RuntimeWarning: overflow encountered in exp\n",
            "  result = 1/(1+np.exp(-x))\n"
          ]
        },
        {
          "data": {
            "image/png": "[encoded data removed]",
            "text/plain": [
              "<Figure size 1000x500 with 1 Axes>"
            ]
          },
          "metadata": {},
          "output_type": "display_data"
        }
      ],
      "source": [
        "# running the training loop for 1000 steps\n",
        "learning_rate = 5e-4\n",
        "num_steps = 25000\n",
        "log_likelihoods, beta_values = logistic_regression(matrix, Y_class, learning_rate, num_steps, 2, 500)\n",
        "# print(log_likelihoods)\n",
        "plt.figure(figsize=(10, 5))\n",
        "\n",
        "sns.lineplot(data=pandas.DataFrame(log_likelihoods, columns=['steps', 'log_likelihood']), x=\"steps\", y=\"log_likelihood\", marker=\"o\")\n",
        "plt.show()"
      ]
    },
    {
      "cell_type": "markdown",
      "id": "8b6dd0c4",
      "metadata": {},
      "source": [
        "#### Validation on Validation Dataset and calculating F-1 score"
      ]
    },
    {
      "cell_type": "code",
      "execution_count": 228,
      "id": "693bdb7e",
      "metadata": {},
      "outputs": [],
      "source": [
        "# Function to calculate F-1 score\n",
        "def calculate_f1_score(true_pos, false_neg, false_pos):\n",
        "    precision = true_pos / ((true_pos + false_pos) * 1.0)\n",
        "    recall = true_pos / ((true_pos + false_neg) * 1.0)\n",
        "    f1 = (2 * precision * recall ) / ((precision + recall) * 1.0)\n",
        "    return f1"
      ]
    },
    {
      "cell_type": "code",
      "execution_count": 207,
      "id": "7df082e2",
      "metadata": {},
      "outputs": [
        {
          "name": "stdout",
          "output_type": "stream",
          "text": [
            "F1 Score:  0.7439539347408829\n",
            "Accuracy:  0.7332\n"
          ]
        }
      ],
      "source": [
        "df_validate = pandas.read_csv(\"dev.csv\")\n",
        "true_pos, false_pos, false_neg = 0,0,0\n",
        "Y_class_validate = create_class_vector(df_validate['label'].values)\n",
        "accurate = 0\n",
        "\n",
        "for i in range(len(df_validate[\"generation\"])):\n",
        "\n",
        "    predicted_y = predict(df_validate[\"generation\"].iloc[i], beta_values, indices)\n",
        "    \n",
        "    if predicted_y == Y_class_validate[i]:\n",
        "        accurate += 1\n",
        "        if predicted_y == 1:\n",
        "            true_pos += 1\n",
        "    else:\n",
        "        if predicted_y == 0:\n",
        "            false_neg += 1\n",
        "        else:\n",
        "            false_pos += 1\n",
        "\n",
        "print(\"F1 Score: \", calculate_f1_score(true_pos, false_neg, false_pos))\n",
        "accuracy = accurate / (len(df_validate) * 1.0)\n",
        "print(\"Accuracy: \", accuracy)"
      ]
    },
    {
      "cell_type": "markdown",
      "id": "cf873802",
      "metadata": {},
      "source": [
        "#### Testing the Numpy Model"
      ]
    },
    {
      "cell_type": "code",
      "execution_count": 205,
      "id": "56551b2a",
      "metadata": {},
      "outputs": [],
      "source": [
        "df_test = pandas.read_csv(\"test.student.csv\")\n",
        "\n",
        "with open(\"test_results.txt\", \"w\") as f:\n",
        "    for i in range(len(df_test[\"generation\"])):\n",
        "        predicted_y = predict(df_test[\"generation\"].iloc[i], beta_values, indices)\n",
        "        f.write(f'{df_test[\"id\"].iloc[i]},{predicted_y}\\n')"
      ]
    },
    {
      "cell_type": "markdown",
      "id": "1e9e08c6",
      "metadata": {
        "id": "1e9e08c6"
      },
      "source": [
        "### Part 3 : Logistic Regression w Pytorch"
      ]
    },
    {
      "cell_type": "code",
      "execution_count": 282,
      "id": "c8f9fd1a",
      "metadata": {
        "id": "c8f9fd1a"
      },
      "outputs": [],
      "source": [
        "# takes in sparse scipy matrix and converts it into a sparse tensor\n",
        "def to_sparse_tensor(sparse_scipy):\n",
        "    # return row and col indices of non zero values along with the values\n",
        "    row_ind, col_ind, values = sparse.find(sparse_scipy)\n",
        "\n",
        "    # merge both np arrays to a singular array - this is more efficient \n",
        "    indices = np.stack((row_ind, col_ind))\n",
        "    i = torch.tensor(indices)\n",
        "    v = torch.tensor(values, dtype=torch.float32)\n",
        "    return torch.sparse_coo_tensor(i, v)"
      ]
    },
    {
      "cell_type": "code",
      "execution_count": 283,
      "id": "05203b98",
      "metadata": {
        "id": "05203b98"
      },
      "outputs": [],
      "source": [
        "# Logistic Regression Class extending nn.Module\n",
        "class LogisticRegression(nn.Module):\n",
        "    def __init__(self, vocab_size) -> None:\n",
        "        # call the base class initialization\n",
        "        super().__init__()\n",
        "        # singular output feature for binary classification - is it LLM generated or not - predicted_y?\n",
        "        # input features would be the size of the vocabulary - how many features should we train on?\n",
        "        self.linear = nn.Linear(in_features = vocab_size, out_features=1)\n",
        "        self.vocab_size = vocab_size\n",
        "        self.sigmoid = nn.Sigmoid()\n",
        "\n",
        "    # forward takes in input sparse matrix - documents with all features\n",
        "    def forward(self, x):\n",
        "        # pass the linear layer output into sigmoid function and return the probability\n",
        "        x = self.linear(x)\n",
        "        return self.sigmoid(x)"
      ]
    },
    {
      "cell_type": "code",
      "execution_count": 284,
      "id": "f58ca4ce",
      "metadata": {},
      "outputs": [
        {
          "name": "stdout",
          "output_type": "stream",
          "text": [
            "torch.Size([55002, 5186]) (55002,)\n"
          ]
        }
      ],
      "source": [
        "# setting up term document matrix and class labels as a vector\n",
        "df = pandas.read_csv(\"train.csv\")\n",
        "\n",
        "# create a sparse matrix for all training documents\n",
        "matrix, indices = create_sparse_matrix(df[\"generation\"])\n",
        "\n",
        "X_tensor = to_sparse_tensor(matrix)\n",
        "Y_class = create_class_vector(df['label'].values)\n",
        "\n",
        "# number of columns of feature vectors\n",
        "vocab_size = matrix.shape[1]\n",
        "\n",
        "print(X_tensor.size(), Y_class.shape)"
      ]
    },
    {
      "cell_type": "code",
      "execution_count": 295,
      "id": "14fe6bf6",
      "metadata": {},
      "outputs": [],
      "source": [
        "model = LogisticRegression(vocab_size)\n",
        "learning_rate = 5e-5\n",
        "bce_loss = nn.BCELoss()\n",
        "optimizer = torch.optim.SGD(model.parameters(), lr=learning_rate)"
      ]
    },
    {
      "cell_type": "markdown",
      "id": "f14e5c48",
      "metadata": {},
      "source": [
        "#### Pytorch Training Loop"
      ]
    },
    {
      "cell_type": "code",
      "execution_count": 287,
      "id": "95f583cc",
      "metadata": {},
      "outputs": [],
      "source": [
        "def train(X_tensor, Y, num_step, epochs = 1, plot=20):\n",
        "    losses = []\n",
        "    for epoch in range(epochs):  # loop over the dataset multiple times   \n",
        "        for i in range(num_step):\n",
        "            row_ind = random.randint(0, X_tensor.size(0))\n",
        "            inputs = X_tensor[row_ind]\n",
        "            \n",
        "            label = torch.tensor([Y[row_ind]], dtype=torch.float32)\n",
        "            # zero out parameter gradients - they accumulate by default in pytorch\n",
        "            optimizer.zero_grad()\n",
        "            # forward pass\n",
        "            output = model(inputs)\n",
        "            \n",
        "            loss = bce_loss(output, label)\n",
        "            # backward pass\n",
        "            loss.backward()\n",
        "            # update parameters with respect to loss\n",
        "            optimizer.step()\n",
        "\n",
        "            if i % plot == 0:\n",
        "                each_loss = loss.item()    \n",
        "                print(f'[{i}] loss: {each_loss}')\n",
        "                losses.append((i + epoch,each_loss))\n",
        "    return losses\n",
        "    "
      ]
    },
    {
      "cell_type": "markdown",
      "id": "fda0af45",
      "metadata": {},
      "source": [
        "#### Problem : Training for 1000 steps and plotting Loss"
      ]
    },
    {
      "cell_type": "code",
      "execution_count": 311,
      "id": "f8b4065b",
      "metadata": {},
      "outputs": [
        {
          "name": "stdout",
          "output_type": "stream",
          "text": [
            "[0] loss: 0.9584570527076721\n",
            "[50] loss: 0.9057285189628601\n",
            "[100] loss: 0.32539287209510803\n",
            "[150] loss: 0.961391031742096\n",
            "[200] loss: 0.7996078133583069\n",
            "[250] loss: 0.713042676448822\n",
            "[300] loss: 0.3061458170413971\n",
            "[350] loss: 0.44220536947250366\n",
            "[400] loss: 0.5363704562187195\n",
            "[450] loss: 0.006945058237761259\n",
            "[500] loss: 0.4673570692539215\n",
            "[550] loss: 0.9699648022651672\n",
            "[600] loss: 0.658214271068573\n",
            "[650] loss: 0.20070303976535797\n",
            "[700] loss: 0.42653805017471313\n",
            "[750] loss: 1.1434566974639893\n",
            "[800] loss: 0.4212794005870819\n",
            "[850] loss: 0.6852825880050659\n",
            "[900] loss: 0.6567081809043884\n",
            "[950] loss: 0.7686131596565247\n"
          ]
        },
        {
          "data": {
            "image/png": "[encoded data removed]",
            "text/plain": [
              "<Figure size 1000x500 with 1 Axes>"
            ]
          },
          "metadata": {},
          "output_type": "display_data"
        }
      ],
      "source": [
        "losses = train(X_tensor, Y_class, 1000, 1, 50)\n",
        "\n",
        "plt.figure(figsize=(10, 5))\n",
        "\n",
        "sns.lineplot(data=pandas.DataFrame(losses, columns=['steps', 'loss']), x=\"steps\", y=\"loss\", marker=\"o\")\n",
        "plt.show()"
      ]
    },
    {
      "cell_type": "code",
      "execution_count": 312,
      "id": "d5b9ea4c",
      "metadata": {},
      "outputs": [],
      "source": [
        "# function that takes in a text and predicts a class label\n",
        "def predict(text, model, indices):\n",
        "    test_features = create_document_vector(text, indices, False)\n",
        "    test_tensor = torch.tensor(test_features, dtype=torch.float32)\n",
        "    predicted_y = model(test_tensor)\n",
        "    return predicted_y >= 0.5\n",
        "    \n",
        "def evaluate(df_eval, Y_labels, indices, model):\n",
        "    \n",
        "    true_pos, false_pos, false_neg, accurate = 0,0,0,0\n",
        "    # this disables certain behaviors\n",
        "    model.eval()\n",
        "    # since we're not training, we don't need to calculate the gradients for our outputs\n",
        "    with torch.no_grad():\n",
        "        for i in range(len(df_eval[\"generation\"])):\n",
        "            input = df_eval[\"generation\"].iloc[i]\n",
        "            # predict through the model instantiated\n",
        "            predicted_y = predict(input, model, indices)\n",
        "\n",
        "            if predicted_y == Y_labels[i]:\n",
        "                accurate += 1\n",
        "                if predicted_y == 1:\n",
        "                    true_pos += 1\n",
        "            else:\n",
        "                if predicted_y == 0:\n",
        "                    false_neg += 1\n",
        "                else:\n",
        "                    false_pos += 1\n",
        "        print(\"F1 Score: \", calculate_f1_score(true_pos, false_neg, false_pos))\n",
        "        accuracy = accurate / (len(df_eval[\"generation\"]) * 1.0)\n",
        "        print(\"Accuracy: \", accuracy)"
      ]
    },
    {
      "cell_type": "markdown",
      "id": "75a46fa0",
      "metadata": {},
      "source": [
        "#### Evaluating Pytorch Model"
      ]
    },
    {
      "cell_type": "markdown",
      "id": "fbb86aad",
      "metadata": {},
      "source": [
        "### F1 and Accuracy for 1000 steps Model"
      ]
    },
    {
      "cell_type": "code",
      "execution_count": 313,
      "id": "71a2cccc",
      "metadata": {
        "id": "71a2cccc",
        "outputId": "2faa248a-cd44-4777-dfad-033025418ba4"
      },
      "outputs": [
        {
          "name": "stdout",
          "output_type": "stream",
          "text": [
            "F1 Score:  0.6692049272116462\n",
            "Accuracy:  0.7046\n"
          ]
        }
      ],
      "source": [
        "# setting up term document matrix and class labels as a vector\n",
        "df_eval = pandas.read_csv(\"dev.csv\")\n",
        "Y_class_eval = create_class_vector(df_eval['label'].values)\n",
        "\n",
        "# number of columns of feature vectors\n",
        "vocab_size = matrix.shape[1]\n",
        "evaluate(df_eval, Y_class_eval, indices, model)"
      ]
    }
  ],
  "metadata": {
    "colab": {
      "provenance": []
    },
    "kernelspec": {
      "display_name": "cs421",
      "language": "python",
      "name": "python3"
    },
    "language_info": {
      "codemirror_mode": {
        "name": "ipython",
        "version": 3
      },
      "file_extension": ".py",
      "mimetype": "text/x-python",
      "name": "python",
      "nbconvert_exporter": "python",
      "pygments_lexer": "ipython3",
      "version": "3.10.16"
    }
  },
  "nbformat": 4,
  "nbformat_minor": 5
}
