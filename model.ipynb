{
 "cells": [
  {
   "cell_type": "markdown",
   "id": "91fd2241",
   "metadata": {},
   "source": [
    "## CSE595 Homework 1 : Logistic Regression Implementation"
   ]
  },
  {
   "cell_type": "code",
   "execution_count": 3,
   "id": "43f85f92",
   "metadata": {},
   "outputs": [],
   "source": [
    "import pandas\n",
    "import re"
   ]
  },
  {
   "cell_type": "code",
   "execution_count": 26,
   "id": "9f240b64",
   "metadata": {},
   "outputs": [],
   "source": [
    "# Function to load stop words from NLTK Github Repo to be removed \n",
    "def load_stopwords():\n",
    "    f = open(\"stopwords.txt\")\n",
    "    words = f.readlines()\n",
    "    stopwords = set()\n",
    "    for i in words:\n",
    "        i = i.strip()\n",
    "        stopwords.add(i)\n",
    "    return stopwords"
   ]
  },
  {
   "cell_type": "markdown",
   "id": "8156ff00",
   "metadata": {},
   "source": [
    "### Part 1 : Representing Text Data"
   ]
  },
  {
   "cell_type": "code",
   "execution_count": 4,
   "id": "7af0dd6a",
   "metadata": {},
   "outputs": [],
   "source": [
    "# tokenizes purely by using whitespace\n",
    "def tokenize (sentence : str):\n",
    "    tokens = sentence.split()\n",
    "    return tokens"
   ]
  },
  {
   "cell_type": "code",
   "execution_count": null,
   "id": "04b2a289",
   "metadata": {},
   "outputs": [],
   "source": [
    "# tokenizing by ignoring capitalization, removing stop words as well as all punctuations\n",
    "def better_tokenize(text : str):\n",
    "    # store unique tokens in tokens\n",
    "    tokens = set()\n",
    "    # convert entire text into lowercase\n",
    "    lowercase = text.lower()\n",
    "    # find all possible words and all possible punctuations as their own tokens \n",
    "    words = re.findall(r\"\\w+|[,.!?#\\r\\n$%;:()\\\"']\", lowercase)\n",
    "    # load in stop words\n",
    "    stopwords = load_stopwords()\n",
    "    \n",
    "    for word in words:\n",
    "        if word not in stopwords:\n",
    "            tokens.add(word)\n",
    "    return tokens"
   ]
  },
  {
   "cell_type": "markdown",
   "id": "078fa42b",
   "metadata": {},
   "source": [
    "#### Testing Tokenization"
   ]
  },
  {
   "cell_type": "code",
   "execution_count": 55,
   "id": "7596106b",
   "metadata": {},
   "outputs": [
    {
     "data": {
      "text/plain": [
       "{'\"',\n",
       " \"'\",\n",
       " ',',\n",
       " '.',\n",
       " '10',\n",
       " 'add',\n",
       " 'always',\n",
       " 'atmosphere',\n",
       " 'back',\n",
       " 'based',\n",
       " 'certainly',\n",
       " 'come',\n",
       " 'coming',\n",
       " 'conjuring',\n",
       " 'disturb',\n",
       " 'doesn',\n",
       " 'even',\n",
       " 'events',\n",
       " 'every',\n",
       " 'film',\n",
       " 'films',\n",
       " 'first',\n",
       " 'full',\n",
       " 'fun',\n",
       " 'give',\n",
       " 'good',\n",
       " 'horror',\n",
       " 'interesting',\n",
       " 'jump',\n",
       " 'least',\n",
       " 'like',\n",
       " 'long',\n",
       " 'love',\n",
       " 'makes',\n",
       " 'movie',\n",
       " 'one',\n",
       " 'portion',\n",
       " 'quite',\n",
       " 'rating',\n",
       " 'recent',\n",
       " 'rewatch',\n",
       " 'scares',\n",
       " 'scariest',\n",
       " 'since',\n",
       " 'sinister',\n",
       " 'star',\n",
       " 'stick',\n",
       " 'thrilling',\n",
       " 'time',\n",
       " 'times',\n",
       " 'true',\n",
       " 'watch',\n",
       " 'watched',\n",
       " 'watcher'}"
      ]
     },
     "execution_count": 55,
     "metadata": {},
     "output_type": "execute_result"
    }
   ],
   "source": [
    "df = pandas.read_csv(\"train.csv\")\n",
    "better_tokenize(df['generation'][0])"
   ]
  }
 ],
 "metadata": {
  "kernelspec": {
   "display_name": "cs421",
   "language": "python",
   "name": "python3"
  },
  "language_info": {
   "codemirror_mode": {
    "name": "ipython",
    "version": 3
   },
   "file_extension": ".py",
   "mimetype": "text/x-python",
   "name": "python",
   "nbconvert_exporter": "python",
   "pygments_lexer": "ipython3",
   "version": "3.10.16"
  }
 },
 "nbformat": 4,
 "nbformat_minor": 5
}
