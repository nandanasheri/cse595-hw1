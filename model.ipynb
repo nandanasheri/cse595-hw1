{
 "cells": [
  {
   "cell_type": "markdown",
   "id": "91fd2241",
   "metadata": {},
   "source": [
    "## CSE595 Homework 1 : Logistic Regression Implementation"
   ]
  },
  {
   "cell_type": "code",
   "execution_count": 3,
   "id": "43f85f92",
   "metadata": {},
   "outputs": [],
   "source": [
    "import pandas"
   ]
  },
  {
   "cell_type": "markdown",
   "id": "8156ff00",
   "metadata": {},
   "source": [
    "### Part 1 : Representing Text Data"
   ]
  },
  {
   "cell_type": "code",
   "execution_count": null,
   "id": "7af0dd6a",
   "metadata": {},
   "outputs": [],
   "source": [
    "# tokenizes purely by using whitespace\n",
    "def tokenize (sentence : str):\n",
    "    tokens = sentence.split()\n",
    "    return tokens"
   ]
  },
  {
   "cell_type": "code",
   "execution_count": null,
   "id": "04b2a289",
   "metadata": {},
   "outputs": [],
   "source": [
    "punct = set([\",\", \".\", \"!\", \"?\", \"#\", \"$\", \"%\", \";\", \":\", \"(\", \")\"])\n",
    "\n",
    "def better_tokenize(sentence : str):"
   ]
  },
  {
   "cell_type": "markdown",
   "id": "078fa42b",
   "metadata": {},
   "source": [
    "#### Testing Tokenization"
   ]
  },
  {
   "cell_type": "code",
   "execution_count": 9,
   "id": "7596106b",
   "metadata": {},
   "outputs": [
    {
     "name": "stdout",
     "output_type": "stream",
     "text": [
      "Sure! Here's a recipe for a delicious and healthier \"ice cream\" cake that combines the rich flavors of mocha and crunchy yogurt:\n",
      "\n",
      "Ingredients:\n",
      "\n",
      "For the crust:\n",
      "\n",
      "* 1 1/2 cups graham cracker crumbs\n",
      "* 1/4 cup granulated sugar\n",
      "* 1/2 cup unsalted butter, melted\n",
      "\n",
      "For the ice cream layers:\n",
      "\n",
      "* 3 cups plain Greek yogurt\n",
      "* 1/2 cup strong brewed coffee\n",
      "* 1/2 cup granulated sugar\n",
      "* 1 tablespoon unsweetened cocoa powder\n",
      "* 1 teaspoon vanilla extract\n",
      "* 1/4 teaspoon salt\n",
      "\n",
      "For the chocolate ganache:\n",
      "\n",
      "* 1/2 cup semisweet chocolate chips\n",
      "* 1/4 cup heavy cream\n",
      "\n",
      "For the whipped cream topping:\n",
      "\n",
      "* 1 cup heavy cream\n",
      "* 1 tablespoon granulated sugar\n",
      "\n",
      "Instructions:\n",
      "\n",
      "1. Preheat your oven to 350°F (180°C). \n",
      "\n",
      "2. In a medium-sized bowl, mix together the graham cracker crumbs and sugar. \n",
      "\n",
      "Pour in the melted butter and stir until well combined. \n",
      "\n",
      "Press the mixture into the bottom and up the sides of a 9-inch springform pan. Bake for 10-12 minutes or until lightly golden brown. Let cool completely. 3. In a large mixing bowl, combine the yogurt, coffee, sugar, cocoa powder, and vanilla extract. \n",
      "\n",
      "Whisk until smooth. \n",
      "\n",
      "Refrigerate for at least 30 minutes to allow the flavors to meld. \n",
      "\n",
      "4. \n",
      "\n",
      "Once the crust is cooled, pour the yogurt mixture over it and spread evenly. \n",
      "\n",
      "Freeze for at least 2 hours or until firm. 5. To make the chocolate ganache, heat the chocolate chips in a small saucepan over low heat, stirring\n"
     ]
    }
   ],
   "source": [
    "df = pandas.read_csv(\"train.csv\")\n",
    "print((df['generation'][1000]))"
   ]
  }
 ],
 "metadata": {
  "kernelspec": {
   "display_name": "Python 3",
   "language": "python",
   "name": "python3"
  },
  "language_info": {
   "codemirror_mode": {
    "name": "ipython",
    "version": 3
   },
   "file_extension": ".py",
   "mimetype": "text/x-python",
   "name": "python",
   "nbconvert_exporter": "python",
   "pygments_lexer": "ipython3",
   "version": "3.13.3"
  }
 },
 "nbformat": 4,
 "nbformat_minor": 5
}
