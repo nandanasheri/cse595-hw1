{
 "cells": [
  {
   "cell_type": "markdown",
   "id": "91fd2241",
   "metadata": {},
   "source": [
    "## CSE595 Homework 1 : Logistic Regression Implementation"
   ]
  },
  {
   "cell_type": "code",
   "execution_count": 92,
   "id": "43f85f92",
   "metadata": {},
   "outputs": [],
   "source": [
    "import pandas\n",
    "import re\n",
    "from collections import Counter\n",
    "import numpy as np\n",
    "from scipy import sparse\n",
    "import torch\n",
    "import torch.nn as nn\n",
    "import matplotlib.pyplot as plt\n",
    "import seaborn as sns"
   ]
  },
  {
   "cell_type": "code",
   "execution_count": 91,
   "id": "326ced81",
   "metadata": {},
   "outputs": [
    {
     "name": "stdout",
     "output_type": "stream",
     "text": [
      "Defaulting to user installation because normal site-packages is not writeable\n",
      "Requirement already satisfied: torch in c:\\users\\nandana\\appdata\\roaming\\python\\python313\\site-packages (2.7.0)\n",
      "Requirement already satisfied: filelock in c:\\users\\nandana\\appdata\\roaming\\python\\python313\\site-packages (from torch) (3.18.0)\n",
      "Requirement already satisfied: typing-extensions>=4.10.0 in c:\\users\\nandana\\appdata\\roaming\\python\\python313\\site-packages (from torch) (4.14.0)\n",
      "Requirement already satisfied: sympy>=1.13.3 in c:\\users\\nandana\\appdata\\roaming\\python\\python313\\site-packages (from torch) (1.14.0)\n",
      "Requirement already satisfied: networkx in c:\\users\\nandana\\appdata\\roaming\\python\\python313\\site-packages (from torch) (3.5)\n",
      "Requirement already satisfied: jinja2 in c:\\users\\nandana\\appdata\\roaming\\python\\python313\\site-packages (from torch) (3.1.6)\n",
      "Requirement already satisfied: fsspec in c:\\users\\nandana\\appdata\\roaming\\python\\python313\\site-packages (from torch) (2025.5.1)\n",
      "Requirement already satisfied: setuptools in c:\\users\\nandana\\appdata\\roaming\\python\\python313\\site-packages (from torch) (80.9.0)\n",
      "Requirement already satisfied: mpmath<1.4,>=1.1.0 in c:\\users\\nandana\\appdata\\roaming\\python\\python313\\site-packages (from sympy>=1.13.3->torch) (1.3.0)\n",
      "Requirement already satisfied: MarkupSafe>=2.0 in c:\\users\\nandana\\appdata\\roaming\\python\\python313\\site-packages (from jinja2->torch) (3.0.2)\n",
      "Note: you may need to restart the kernel to use updated packages.\n"
     ]
    },
    {
     "name": "stderr",
     "output_type": "stream",
     "text": [
      "\n",
      "[notice] A new release of pip is available: 25.0.1 -> 25.2\n",
      "[notice] To update, run: python.exe -m pip install --upgrade pip\n"
     ]
    },
    {
     "name": "stdout",
     "output_type": "stream",
     "text": [
      "Defaulting to user installation because normal site-packages is not writeable\n",
      "Collecting seaborn\n",
      "  Downloading seaborn-0.13.2-py3-none-any.whl.metadata (5.4 kB)\n",
      "Requirement already satisfied: numpy!=1.24.0,>=1.20 in c:\\users\\nandana\\appdata\\roaming\\python\\python313\\site-packages (from seaborn) (2.2.6)\n",
      "Requirement already satisfied: pandas>=1.2 in c:\\users\\nandana\\appdata\\roaming\\python\\python313\\site-packages (from seaborn) (2.2.3)\n",
      "Requirement already satisfied: matplotlib!=3.6.1,>=3.4 in c:\\users\\nandana\\appdata\\roaming\\python\\python313\\site-packages (from seaborn) (3.10.3)\n",
      "Requirement already satisfied: contourpy>=1.0.1 in c:\\users\\nandana\\appdata\\roaming\\python\\python313\\site-packages (from matplotlib!=3.6.1,>=3.4->seaborn) (1.3.2)\n",
      "Requirement already satisfied: cycler>=0.10 in c:\\users\\nandana\\appdata\\roaming\\python\\python313\\site-packages (from matplotlib!=3.6.1,>=3.4->seaborn) (0.12.1)\n",
      "Requirement already satisfied: fonttools>=4.22.0 in c:\\users\\nandana\\appdata\\roaming\\python\\python313\\site-packages (from matplotlib!=3.6.1,>=3.4->seaborn) (4.58.1)\n",
      "Requirement already satisfied: kiwisolver>=1.3.1 in c:\\users\\nandana\\appdata\\roaming\\python\\python313\\site-packages (from matplotlib!=3.6.1,>=3.4->seaborn) (1.4.8)\n",
      "Requirement already satisfied: packaging>=20.0 in c:\\users\\nandana\\appdata\\roaming\\python\\python313\\site-packages (from matplotlib!=3.6.1,>=3.4->seaborn) (25.0)\n",
      "Requirement already satisfied: pillow>=8 in c:\\users\\nandana\\appdata\\roaming\\python\\python313\\site-packages (from matplotlib!=3.6.1,>=3.4->seaborn) (11.2.1)\n",
      "Requirement already satisfied: pyparsing>=2.3.1 in c:\\users\\nandana\\appdata\\roaming\\python\\python313\\site-packages (from matplotlib!=3.6.1,>=3.4->seaborn) (3.2.3)\n",
      "Requirement already satisfied: python-dateutil>=2.7 in c:\\users\\nandana\\appdata\\roaming\\python\\python313\\site-packages (from matplotlib!=3.6.1,>=3.4->seaborn) (2.9.0.post0)\n",
      "Requirement already satisfied: pytz>=2020.1 in c:\\users\\nandana\\appdata\\roaming\\python\\python313\\site-packages (from pandas>=1.2->seaborn) (2025.2)\n",
      "Requirement already satisfied: tzdata>=2022.7 in c:\\users\\nandana\\appdata\\roaming\\python\\python313\\site-packages (from pandas>=1.2->seaborn) (2025.2)\n",
      "Requirement already satisfied: six>=1.5 in c:\\users\\nandana\\appdata\\roaming\\python\\python313\\site-packages (from python-dateutil>=2.7->matplotlib!=3.6.1,>=3.4->seaborn) (1.17.0)\n",
      "Downloading seaborn-0.13.2-py3-none-any.whl (294 kB)\n",
      "Installing collected packages: seaborn\n",
      "Successfully installed seaborn-0.13.2\n",
      "Note: you may need to restart the kernel to use updated packages.\n"
     ]
    },
    {
     "name": "stderr",
     "output_type": "stream",
     "text": [
      "\n",
      "[notice] A new release of pip is available: 25.0.1 -> 25.2\n",
      "[notice] To update, run: python.exe -m pip install --upgrade pip\n"
     ]
    }
   ],
   "source": [
    "%pip install torch\n",
    "%pip install seaborn"
   ]
  },
  {
   "cell_type": "code",
   "execution_count": 2,
   "id": "9f240b64",
   "metadata": {},
   "outputs": [],
   "source": [
    "# Function to load stop words from NLTK Github Repo to be removed \n",
    "def load_stopwords():\n",
    "    f = open(\"stopwords.txt\")\n",
    "    words = f.readlines()\n",
    "    stopwords = set()\n",
    "    for i in words:\n",
    "        i = i.strip()\n",
    "        stopwords.add(i)\n",
    "    return stopwords\n",
    "\n",
    "stopwords = load_stopwords()"
   ]
  },
  {
   "cell_type": "markdown",
   "id": "8156ff00",
   "metadata": {},
   "source": [
    "### Part 1 : Representing Text Data"
   ]
  },
  {
   "cell_type": "code",
   "execution_count": 3,
   "id": "7af0dd6a",
   "metadata": {},
   "outputs": [],
   "source": [
    "# tokenizes purely by using whitespace\n",
    "def tokenize (sentence : str):\n",
    "    tokens = sentence.split()\n",
    "    return tokens"
   ]
  },
  {
   "cell_type": "code",
   "execution_count": 4,
   "id": "04b2a289",
   "metadata": {},
   "outputs": [],
   "source": [
    "# tokenizing by ignoring capitalization, removing stop words as well as all punctuations\n",
    "def better_tokenize(text : str):\n",
    "    # store unique tokens in tokens\n",
    "    tokens = []\n",
    "    # convert entire text into lowercase\n",
    "    lowercase = text.lower()\n",
    "    # find all possible words and all possible punctuations as their own tokens \n",
    "    words = re.findall(r\"\\w+|[,.!?#\\r\\n$%;:()\\\"']\", lowercase)\n",
    " \n",
    "    for word in words:\n",
    "        if word not in stopwords:\n",
    "            tokens.append(word)\n",
    "    return tokens"
   ]
  },
  {
   "cell_type": "code",
   "execution_count": 29,
   "id": "d42482d7",
   "metadata": {},
   "outputs": [],
   "source": [
    "# build the vocabulary with a minimum word frequency of 250 along with a column mapping\n",
    "def build_vocab(token_docs: list):\n",
    "    vocab, all_tokens = [], []\n",
    "    vocab_indices = {}\n",
    "    for doc in token_docs:\n",
    "        all_tokens.extend(doc)\n",
    "\n",
    "    # returns frequences of tokens across all documents\n",
    "    frequencies = Counter(all_tokens)\n",
    "    \n",
    "    i = 0\n",
    "    for freq in frequencies:\n",
    "    #   if above certain threshold, add to vocab\n",
    "        if frequencies[freq] >= 250:\n",
    "            vocab.append(freq)\n",
    "            vocab_indices[freq] = i\n",
    "            i += 1\n",
    "     \n",
    "    return set(vocab), vocab_indices    \n",
    "\n",
    "# create term document matrix\n",
    "def create_sparse_matrix(documents : list):\n",
    "    tokenized_docs = []\n",
    "    for doc in documents:\n",
    "        tokens = better_tokenize(doc)\n",
    "        tokenized_docs.append(tokens)\n",
    "    vocab, indices = build_vocab(tokenized_docs)\n",
    "\n",
    "    dense_matrix = []\n",
    "    for doc in tokenized_docs:\n",
    "        row = [0] * len(vocab)\n",
    "        for token in doc:\n",
    "            if token in vocab:\n",
    "                row[indices[token]] += 1\n",
    "        dense_matrix.append(row)\n",
    "\n",
    "    np_arr = np.array(dense_matrix)\n",
    "    sparse_td_matrix = sparse.csr_matrix(np_arr)\n",
    "    \n",
    "    return sparse_td_matrix, indices\n",
    "\n",
    "# create a vector from a singular document of text\n",
    "def create_document_vector(text, indices):\n",
    "    tokens = better_tokenize(text)\n",
    "    row = [0] * len(indices)\n",
    "    for token in tokens:\n",
    "        if token in indices:\n",
    "            row[indices[token]] += 1\n",
    "    return np.array(row)\n",
    "\n",
    "# convert boolean dataframe of class labels into numpy array of integers\n",
    "def create_class_vector(class_labels):\n",
    "    return np.array(class_labels, dtype=int)\n"
   ]
  },
  {
   "cell_type": "markdown",
   "id": "078fa42b",
   "metadata": {},
   "source": [
    "#### Testing Tokenization"
   ]
  },
  {
   "cell_type": "code",
   "execution_count": 6,
   "id": "7596106b",
   "metadata": {},
   "outputs": [
    {
     "data": {
      "text/plain": [
       "['\"',\n",
       " 'conjuring',\n",
       " '\"',\n",
       " 'one',\n",
       " 'thrilling',\n",
       " 'horror',\n",
       " 'film',\n",
       " 'come',\n",
       " 'recent',\n",
       " 'times',\n",
       " '.',\n",
       " '\"',\n",
       " 'sinister',\n",
       " '\"',\n",
       " 'one',\n",
       " 'scariest',\n",
       " 'films',\n",
       " 'watched',\n",
       " '.',\n",
       " 'since',\n",
       " \"'\",\n",
       " 'based',\n",
       " '\"',\n",
       " 'true',\n",
       " 'events',\n",
       " '\"',\n",
       " ',',\n",
       " 'makes',\n",
       " 'even',\n",
       " 'interesting',\n",
       " '.',\n",
       " \"'\",\n",
       " 'quite',\n",
       " 'give',\n",
       " 'full',\n",
       " '10',\n",
       " 'star',\n",
       " 'rating',\n",
       " 'quite',\n",
       " 'jump',\n",
       " 'scares',\n",
       " ',',\n",
       " 'least',\n",
       " 'good',\n",
       " 'portion',\n",
       " 'jump',\n",
       " 'scares',\n",
       " 'add',\n",
       " 'atmosphere',\n",
       " 'movie',\n",
       " '.',\n",
       " 'first',\n",
       " 'time',\n",
       " 'watcher',\n",
       " 'movie',\n",
       " ',',\n",
       " 'certainly',\n",
       " 'disturb',\n",
       " '.',\n",
       " 'doesn',\n",
       " \"'\",\n",
       " 'stick',\n",
       " 'like',\n",
       " '\"',\n",
       " 'sinister',\n",
       " '\"',\n",
       " 'long',\n",
       " ',',\n",
       " 'conjuring',\n",
       " 'fun',\n",
       " 'watch',\n",
       " 'always',\n",
       " 'love',\n",
       " 'coming',\n",
       " 'back',\n",
       " 'rewatch',\n",
       " 'every',\n",
       " '.']"
      ]
     },
     "execution_count": 6,
     "metadata": {},
     "output_type": "execute_result"
    }
   ],
   "source": [
    "df = pandas.read_csv(\"train.csv\")\n",
    "better_tokenize(df['generation'][0])"
   ]
  },
  {
   "cell_type": "code",
   "execution_count": 23,
   "id": "640e810a",
   "metadata": {},
   "outputs": [
    {
     "name": "stdout",
     "output_type": "stream",
     "text": [
      "[0 0 0 ... 1 0 0]\n"
     ]
    }
   ],
   "source": [
    "documents_test = [\"I like the cat!\", \"the cat eats.\", \"i saw this cat and it was adorable i like it so much\"]\n",
    "# matrix, indices = create_sparse_matrix(df[\"generation\"])\n",
    "\n",
    "print(create_class_vector(df['label'].values))\n",
    "\n",
    "# print(matrix)\n",
    "# print(indices)"
   ]
  },
  {
   "cell_type": "markdown",
   "id": "699094c0",
   "metadata": {},
   "source": [
    "### Part 2 : Logistic Regression w numpy"
   ]
  },
  {
   "cell_type": "code",
   "execution_count": 83,
   "id": "e4ccc3b8",
   "metadata": {},
   "outputs": [],
   "source": [
    "# Defining sigmoid function that takes in a np array/vector\n",
    "def sigmoid(x):\n",
    "    result = 1/(1+np.exp(-x))\n",
    "    return result\n",
    "\n",
    "# weights is our beta coefficients, x is the feature vector of a document and y is the ground truth of a document\n",
    "def log_likelihood(y, predicted_y):\n",
    "    a = y * predicted_y\n",
    "    b = np.log(1 + np.exp(predicted_y))\n",
    "    return a - b\n",
    "\n",
    "# compute the gradient for a specific x vector, beta coefficients and ground truth y\n",
    "def compute_gradient(x, y, predicted_y):\n",
    "    return (sigmoid(predicted_y) - y) * x"
   ]
  },
  {
   "cell_type": "code",
   "execution_count": 107,
   "id": "d741e91d",
   "metadata": {},
   "outputs": [],
   "source": [
    "# logistic regression with X matrix each row is a feature vector, Y vector, rate of learning and number of steps\n",
    "def logistic_regression(X, Y, learning_rate, num_step, epochs = 1):\n",
    "\n",
    "    # Adding a column of ones as bias vector\n",
    "    bias = np.array([1] * X.shape[0]).reshape(-1, 1)\n",
    "    sparse_bias = sparse.csr_matrix(bias)\n",
    "    # horizontally stacking training matrix with bias vector\n",
    "    X = sparse.hstack([X, sparse_bias], format=\"csr\")\n",
    "\n",
    "    beta = [0] * X.shape[1]\n",
    "    # beta values - vector of coefficients initialized to zero\n",
    "    beta = np.array(beta)\n",
    "    \n",
    "    log_likelihoods = []\n",
    "    for j in range(epochs):\n",
    "        for i in range(num_step):\n",
    "            # calculate predicted y using the current coefficient weights\n",
    "            predicted_y = sparse.csr_matrix.dot(X.getrow(i), beta)\n",
    "            \n",
    "            # compute gradient and update beta vector stochastic gradient descent\n",
    "            beta = np.subtract(beta, learning_rate * compute_gradient(X.getrow(i), Y[i], predicted_y))\n",
    "            if i  % 20 == 0:\n",
    "                log_likelihoods.append((i,log_likelihood(Y[i], predicted_y)[0]))\n",
    "    \n",
    "    return log_likelihoods\n",
    "\n",
    "def predict(text, beta, indices):\n",
    "    test_features = create_document_vector(text, indices)\n",
    "    predicted_y = np.matmul(test_features, beta)\n",
    "    return predicted_y\n"
   ]
  },
  {
   "cell_type": "markdown",
   "id": "e2d11a1e",
   "metadata": {},
   "source": [
    "#### Training the Model"
   ]
  },
  {
   "cell_type": "code",
   "execution_count": null,
   "id": "2c1f572d",
   "metadata": {},
   "outputs": [],
   "source": [
    "# setting up term document matrix and class labels as a vector\n",
    "df = pandas.read_csv(\"train.csv\")\n",
    "\n",
    "# create a sparse matrix for all training documents\n",
    "matrix, indices = create_sparse_matrix(df[\"generation\"])\n",
    "Y_class = create_class_vector(df['label'].values)"
   ]
  },
  {
   "cell_type": "code",
   "execution_count": null,
   "id": "b896e549",
   "metadata": {},
   "outputs": [
    {
     "name": "stdout",
     "output_type": "stream",
     "text": [
      "[(0, np.float64(-0.6931471805599453)), (20, np.float64(-0.6773169392478224)), (40, np.float64(-0.8177438170808228)), (60, np.float64(-0.7021307954104485)), (80, np.float64(-0.632505300473943)), (100, np.float64(-0.7317747293802169)), (120, np.float64(-0.7050846820343107)), (140, np.float64(-0.43564808643977637)), (160, np.float64(-0.6741532783887384)), (180, np.float64(-0.6946007209361641)), (200, np.float64(-0.5966837563682894)), (220, np.float64(-0.7284376927820922)), (240, np.float64(-0.5200924324409928)), (260, np.float64(-0.6395226093873041)), (280, np.float64(-0.7831740213757274)), (300, np.float64(-0.6893965464109235)), (320, np.float64(-0.6790708700630522)), (340, np.float64(-0.7004081653228114)), (360, np.float64(-0.7060415192383169)), (380, np.float64(-0.6768205466782236)), (400, np.float64(-0.5945960552982412)), (420, np.float64(-0.23883489761583834)), (440, np.float64(-0.5969086613556492)), (460, np.float64(-0.1654962167222982)), (480, np.float64(-0.08636362079911031)), (500, np.float64(-0.6610967076676701)), (520, np.float64(-0.6249436529451758)), (540, np.float64(-0.8112014328306278)), (560, np.float64(-0.6604319807173153)), (580, np.float64(-0.5213631998757542)), (600, np.float64(-0.7200497586193412)), (620, np.float64(-0.5795829904160796)), (640, np.float64(-0.5223924330149248)), (660, np.float64(-0.6929986704530143)), (680, np.float64(-0.6283380856682834)), (700, np.float64(-0.6412582502771492)), (720, np.float64(-0.5453466887118777)), (740, np.float64(-0.6761557972735998)), (760, np.float64(-0.584676916419613)), (780, np.float64(-0.7082795906106766)), (800, np.float64(-0.9441428884570771)), (820, np.float64(-0.7237046392157157)), (840, np.float64(-0.5599941212791255)), (860, np.float64(-0.812375913904549)), (880, np.float64(-0.6994562936471046)), (900, np.float64(-0.40841679874575243)), (920, np.float64(-0.4749530299674378)), (940, np.float64(-0.7991477315283801)), (960, np.float64(-1.3422318683473249)), (980, np.float64(-0.05650210932196259))]\n"
     ]
    }
   ],
   "source": [
    "# running the training loop for 1000 steps\n",
    "learning_rate = 5e-5\n",
    "num_steps = 1000\n",
    "log_likelihoods = logistic_regression(matrix, Y_class, learning_rate, num_steps)\n",
    "print(log_likelihoods)"
   ]
  },
  {
   "cell_type": "markdown",
   "id": "e424c485",
   "metadata": {},
   "source": [
    "#### Log likelihood plot for 1000 steps"
   ]
  },
  {
   "cell_type": "code",
   "execution_count": 103,
   "id": "b4cb6ce6",
   "metadata": {},
   "outputs": [
    {
     "data": {
      "image/png": "[encoded data removed]",
      "text/plain": [
       "<Figure size 640x480 with 1 Axes>"
      ]
     },
     "metadata": {},
     "output_type": "display_data"
    }
   ],
   "source": [
    "sns.lineplot(data=pandas.DataFrame(log_likelihoods, columns=['steps', 'log_likelihood']), x=\"steps\", y=\"log_likelihood\")\n",
    "plt.show()"
   ]
  },
  {
   "cell_type": "code",
   "execution_count": 129,
   "id": "3a520e73",
   "metadata": {},
   "outputs": [
    {
     "data": {
      "image/png": "[encoded data removed]",
      "text/plain": [
       "<Figure size 1000x500 with 1 Axes>"
      ]
     },
     "metadata": {},
     "output_type": "display_data"
    }
   ],
   "source": [
    "# running the training loop for 1000 steps\n",
    "learning_rate = 5e-4\n",
    "num_steps = 8000\n",
    "log_likelihoods = logistic_regression(matrix, Y_class, learning_rate, num_steps, 1)\n",
    "# print(log_likelihoods)\n",
    "plt.figure(figsize=(10, 5)) \n",
    "\n",
    "sns.lineplot(data=pandas.DataFrame(log_likelihoods, columns=['steps', 'log_likelihood']), x=\"steps\", y=\"log_likelihood\", marker=\"o\")\n",
    "plt.show()"
   ]
  },
  {
   "cell_type": "markdown",
   "id": "1e9e08c6",
   "metadata": {},
   "source": [
    "### Part 3 : Logistic Regression w Pytorch "
   ]
  },
  {
   "cell_type": "code",
   "execution_count": 107,
   "id": "c8f9fd1a",
   "metadata": {},
   "outputs": [],
   "source": [
    "# takes in sparse scipy matrix and converts it into a sparse tensor\n",
    "def to_sparse_tensor(sparse_scipy):\n",
    "    # return row and col indices of non zero values along with the values\n",
    "    row_ind, col_ind, values = sparse.find(sparse_scipy)\n",
    "\n",
    "    # merge both np arrays to a singular array - this is more efficient - ASK\n",
    "    indices = np.stack((row_ind, col_ind))\n",
    "    i = torch.tensor(indices)\n",
    "    v = torch.tensor(values, dtype=torch.float32)\n",
    "    return torch.sparse_coo_tensor(i, v)"
   ]
  },
  {
   "cell_type": "code",
   "execution_count": null,
   "id": "05203b98",
   "metadata": {},
   "outputs": [],
   "source": [
    "# Logistic Regression Class extending nn.Module\n",
    "class LogisticRegression(nn.Module):\n",
    "    def __init__(self, vocab_size) -> None:\n",
    "        # call the base class initialization\n",
    "        super().__init__()\n",
    "        # singular output feature for binary classification - is it LLM generated or not?\n",
    "        # input features would be the size of the vocabulary - how many features should we train on?\n",
    "        self.linear = nn.Linear(in_features = vocab_size, out_features=1)\n",
    "\n",
    "    # forward takes in input sparse matrix - documents with all features\n",
    "    def forward(self, x):\n",
    "        # pass the linear layer output into sigmoid function and return the probability\n",
    "        x = nn.Sigmoid(self.linear(x))\n",
    "        return x\n",
    "        "
   ]
  },
  {
   "cell_type": "code",
   "execution_count": 106,
   "id": "71a2cccc",
   "metadata": {},
   "outputs": [
    {
     "name": "stdout",
     "output_type": "stream",
     "text": [
      "<Compressed Sparse Row sparse matrix of dtype 'int64'\n",
      "\twith 11 stored elements and shape (3, 8)>\n",
      "  Coords\tValues\n",
      "  (0, 0)\t1\n",
      "  (0, 1)\t1\n",
      "  (0, 2)\t1\n",
      "  (1, 1)\t1\n",
      "  (1, 3)\t1\n",
      "  (1, 4)\t1\n",
      "  (2, 0)\t1\n",
      "  (2, 1)\t1\n",
      "  (2, 5)\t1\n",
      "  (2, 6)\t1\n",
      "  (2, 7)\t1\n",
      "tensor(indices=tensor([[0, 0, 0, 1, 1, 1, 2, 2, 2, 2, 2],\n",
      "                       [0, 1, 2, 1, 3, 4, 0, 1, 5, 6, 7]]),\n",
      "       values=tensor([1., 1., 1., 1., 1., 1., 1., 1., 1., 1., 1.]),\n",
      "       size=(3, 8), nnz=11, layout=torch.sparse_coo)\n"
     ]
    }
   ],
   "source": [
    "documents_test = [\"I like the cat!\", \"the cat eats.\", \"i saw this cat and it was adorable i like it so much\"]\n",
    "matrix, indices = create_sparse_matrix(documents_test)\n",
    "\n",
    "print(matrix)\n",
    "to_sparse_tensor(matrix)"
   ]
  }
 ],
 "metadata": {
  "kernelspec": {
   "display_name": "Python 3",
   "language": "python",
   "name": "python3"
  },
  "language_info": {
   "codemirror_mode": {
    "name": "ipython",
    "version": 3
   },
   "file_extension": ".py",
   "mimetype": "text/x-python",
   "name": "python",
   "nbconvert_exporter": "python",
   "pygments_lexer": "ipython3",
   "version": "3.13.3"
  }
 },
 "nbformat": 4,
 "nbformat_minor": 5
}
